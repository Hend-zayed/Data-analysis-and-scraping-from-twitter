{
 "cells": [
  {
   "cell_type": "markdown",
   "metadata": {},
   "source": [
    "# 1-Introduction\n",
    "This Wrangle Report is a part of a Data Science Course Project offered by Udacity. \n",
    "The project aims to gather data from Twitter and combine it with a three data frame to create analysis about the tweets and the predicted dog’s breed."
   ]
  },
  {
   "cell_type": "markdown",
   "metadata": {},
   "source": [
    "# 2- Gathering Data \n",
    "1- we have three files for data gathering\n",
    "2- there ara different methods for each file to deal with this files\n"
   ]
  },
  {
   "cell_type": "markdown",
   "metadata": {},
   "source": [
    "# Three data sources\n",
    "1- Csv file---Download this file manually\n",
    "2- link data -----using the Requests library to get the data and import it in .Tsv file\n",
    "3- API twitter---Scrape data from an API and storing it to the file tweet_json.txt"
   ]
  },
  {
   "cell_type": "markdown",
   "metadata": {},
   "source": [
    "# 3- Assessing data\n",
    "After gathering the required data, and investigating it visually then\n",
    "programmatically I came up with the following issues with it:-\n",
    "\n",
    "###twitter_archive\n",
    "    1- Quality\t-Validity-Visual\tname\tInvalid names or non-standard names.\n",
    "    2- Tidiness -Visual-source\tHTML tags, URL, and content in a single column.\n",
    "    3-Tidiness-Programmatic-doggo, floofer, pupper, and puppo\tThis is a categorical variable, and I can combine these columns into one column.\n",
    "    4-Tidiness-Programmatic-text--There is two information in a single column. Split the text from the URL.\n",
    "    5-Quality-Validity-Programmatic-timestamp----Convert to date.\n",
    "    6-Quality-Accuracy-Programmatic-retweeted_status_id\tThe same dog could be recorded twice or more in cases of retweets.\n",
    "    7-Quality-Accuracy-Programmatic\tin_reply_to_status_id\tThe same dog could be recorded twice or more in cases of reply.\n",
    "    --------------------------------------------------------------------------------------\n",
    "###image-predictions\n",
    "    \n",
    "    1-Quality-Consistency-Visual p1, p2, and p3\tDog’s breed has no standard. Capital letter or  lowercase names.\n",
    "      2-Quality-Validity-Programmatic-jpg_url--It has duplicated images and consequently double entry.\n",
    "      \n",
    " ---------------------------------------------------------------------------------------\n",
    " ###twitter_archive_master\n",
    "    1-Tidiness-Programmatic\t-Merging these two tables (twitter_archive and image-predictions) into one.\n",
    "    2-Quality\tValidity\tProgrammatic\t“many columns”\tRemove in_reply_to_status_id,  in_reply_to_user_id, retweeted_status_timestamp, retweeted_status_id, and retweeted_status_user_id.\n"
   ]
  },
  {
   "cell_type": "markdown",
   "metadata": {},
   "source": [
    "# 4-Data Cleaning\n",
    "solve previous issues \n",
    "1- I used my knowledge of python \n",
    "2- searching over the internet for references and possible guidance to the best of my knowledge. \n",
    "Most of the issues involving non-usual values to rating_numerator and rating_denominator were solved using check the image that take unusual rating and drop the record that contain data not related to gogs.\n",
    "Overall, I learned a lot about how to use python effectively and efficiently to clean data and store it\n",
    "Finally, I have solved the tidiness issues combining the tables twitter_archive_enhanced.csv and image_predictions.tsv in one called twitter_archive_master.csv. I have also merged 4 columns (doggo, pupper, puppo, and floofer) into one column.\n",
    "once the data was ready I analyzed it using visualizations as document in act_report.htm"
   ]
  },
  {
   "cell_type": "markdown",
   "metadata": {},
   "source": [
    "# 5-Conclusions\n",
    "I have documented issues and the twitter_archive_master.csv file is the final file version with a minored number of issues, and ready for a Data Analysis. This file has 1993  observations and 22 features."
   ]
  },
  {
   "cell_type": "code",
   "execution_count": null,
   "metadata": {},
   "outputs": [],
   "source": []
  }
 ],
 "metadata": {
  "kernelspec": {
   "display_name": "Python 3",
   "language": "python",
   "name": "python3"
  },
  "language_info": {
   "codemirror_mode": {
    "name": "ipython",
    "version": 3
   },
   "file_extension": ".py",
   "mimetype": "text/x-python",
   "name": "python",
   "nbconvert_exporter": "python",
   "pygments_lexer": "ipython3",
   "version": "3.6.3"
  }
 },
 "nbformat": 4,
 "nbformat_minor": 2
}
